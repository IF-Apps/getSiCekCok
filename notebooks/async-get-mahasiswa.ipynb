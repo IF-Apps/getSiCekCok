{
 "cells": [
  {
   "cell_type": "markdown",
   "id": "b0c4f24e",
   "metadata": {},
   "source": [
    "# Asynchronous GraphQL Data Fetching data Mahasiswa\n",
    "Notebook ini menunjukkan bagaimana kita bisa melakukan asynchronous data fetching dengan GraphQL SiCekCok untuk mengambil data mahasiswa menggunakan Python. Notebook ini menggunakan library `aiohttp` untuk melakukan HTTP request secara asynchronous dan `aiographql` untuk melakukan query ke GraphQL server."
   ]
  },
  {
   "cell_type": "markdown",
   "id": "3feb10d4",
   "metadata": {},
   "source": [
    "### Langkah 0: Install Pustaka yang Diperlukan\n",
    "Pada langkah Persiapan, kita menginstall pustaka `aiohttp` untuk melakukan HTTP request secara asynchronous dan `pandas` untuk memproses data dalam format DataFrame."
   ]
  },
  {
   "cell_type": "code",
   "execution_count": null,
   "id": "9f64012a",
   "metadata": {},
   "outputs": [],
   "source": [
    "%pip install aiohttp pandas"
   ]
  },
  {
   "cell_type": "markdown",
   "id": "ec07247e",
   "metadata": {},
   "source": [
    "### Langkah 1: Mengimpor Pustaka yang Diperlukan\n",
    "Pada langkah pertama, kita mengimpor pustaka `aiohttp` `asyncio`  untuk untuk melakukan HTTP request secara asynchronous dan `pandas` untuk memproses data dalam format DataFrame.\n"
   ]
  },
  {
   "cell_type": "code",
   "execution_count": null,
   "id": "f82b7088",
   "metadata": {},
   "outputs": [],
   "source": [
    "import aiohttp\n",
    "import asyncio\n",
    "import pandas as pd"
   ]
  },
  {
   "cell_type": "markdown",
   "id": "53ed4f7a",
   "metadata": {},
   "source": [
    "### Langkah 2: Mendefinisikan Fungsi untuk Query GraphQL\n",
    "Kita mendefinisikan fungsi `query_graphql` yang mengambil parameter `nim` dan mengirimkan permintaan POST ke endpoint GraphQL yang ditentukan. Fungsi ini mengembalikan hasil dalam format JSON."
   ]
  },
  {
   "cell_type": "code",
   "execution_count": null,
   "id": "08396801",
   "metadata": {},
   "outputs": [],
   "source": [
    "async def query_graphql(session, nim):\n",
    "    url = 'https://sicekcok.if.unismuh.ac.id/graphql'  # Ganti dengan URL endpoint GraphQL yang sesuai\n",
    "    query = \"\"\"\n",
    "    query($nim: String!) {\n",
    "      mahasiswa(nim: $nim) {\n",
    "        nim\n",
    "        kodeProdi\n",
    "        angkatan\n",
    "        nama\n",
    "        jenisKelamin\n",
    "        semesterAwal\n",
    "        tahunAkademikLulus\n",
    "        tanggalLulus\n",
    "        lulus\n",
    "        masaStudi\n",
    "        khs {\n",
    "          tahunAkademik\n",
    "          ips\n",
    "          sksSmt\n",
    "          ipk\n",
    "          sksTotal\n",
    "          statusMahasiswa\n",
    "        }\n",
    "      }\n",
    "    }\n",
    "    \"\"\"\n",
    "    variables = {'nim': str(nim)}  # Pastikan NIM dikonversi ke string\n",
    "    async with session.post(url, json={'query': query, 'variables': variables}) as response:\n",
    "        return await response.json()"
   ]
  },
  {
   "cell_type": "markdown",
   "id": "66d05d30",
   "metadata": {},
   "source": [
    "### Langkah 3: Membaca File NIM dan Menyiapkan Daftar Data\n",
    "Langkah ini membaca file `nim.csv` yang berisi daftar NIM dan menyiapkan struktur data untuk menyimpan hasil unduhan."
   ]
  },
  {
   "cell_type": "code",
   "execution_count": null,
   "id": "beca41b7",
   "metadata": {},
   "outputs": [],
   "source": [
    "nim_list = pd.read_csv('../data/nim.csv')['nim'].tolist()\n",
    "data_list = []\n",
    "total = len(nim_list)\n",
    "max_khs = 0\n",
    "print(f\"Total NIM: {total}\")"
   ]
  },
  {
   "cell_type": "markdown",
   "id": "21b878e8",
   "metadata": {},
   "source": [
    "### Langkah 4: Mengunduh Data secara asynchronousdan Memprosesnya \n",
    "Kita mengiterasi daftar NIM, mengunduh data untuk setiap NIM menggunakan fungsi `query_graphql`, dan memproses data tersebut untuk disimpan dalam daftar `data_list`. Juga, kita melacak jumlah maksimum entri KHS untuk mengatur kolom DataFrame nantinya."
   ]
  },
  {
   "cell_type": "code",
   "execution_count": null,
   "id": "67909856",
   "metadata": {},
   "outputs": [],
   "source": [
    "async def get_mahasiswa():\n",
    "    async with aiohttp.ClientSession() as session:\n",
    "        tasks = []\n",
    "        for nim in nim_list:\n",
    "            tasks.append(query_graphql(session, nim))\n",
    "        responses = await asyncio.gather(*tasks)\n",
    "        for i, result in enumerate(responses):\n",
    "            nim = nim_list[i]\n",
    "            # print(f\"Result for NIM {nim}: {result.get('data', {}).get('mahasiswa', {}).get('nama')}\")\n",
    "            mahasiswa = result.get('data', {}).get('mahasiswa', {})\n",
    "            if mahasiswa:\n",
    "                row = {\n",
    "                    'kodeProdi': mahasiswa.get('kodeProdi'),\n",
    "                    'angkatan': mahasiswa.get('angkatan'),\n",
    "                    'semesterAwal': mahasiswa.get('semesterAwal'),\n",
    "                    'nim': mahasiswa.get('nim'),\n",
    "                    'nama': mahasiswa.get('nama'),\n",
    "                    'jenisKelamin': mahasiswa.get('jenisKelamin'),\n",
    "                    'tahunAkademikLulus': mahasiswa.get('tahunAkademikLulus'),\n",
    "                    'tanggalLulus': mahasiswa.get('tanggalLulus'),\n",
    "                    'lulus': mahasiswa.get('lulus'),\n",
    "                    'masaStudi': mahasiswa.get('masaStudi'),\n",
    "                }\n",
    "                khs = mahasiswa.get('khs', [])\n",
    "                global max_khs\n",
    "                max_khs = max(max_khs, len(khs))\n",
    "                for idx, k in enumerate(khs, start=1):\n",
    "                    row.update({\n",
    "                        f'khs{idx}_tahunAkademik': k.get('tahunAkademik'),\n",
    "                        f'khs{idx}_ips': k.get('ips'),\n",
    "                        f'khs{idx}_sksSmt': k.get('sksSmt'),\n",
    "                        f'khs{idx}_ipk': k.get('ipk'),\n",
    "                        f'khs{idx}_sksTotal': k.get('sksTotal'),\n",
    "                        f'khs{idx}_statusMahasiswa': k.get('statusMahasiswa'),\n",
    "                    })\n",
    "                data_list.append(row)\n",
    "                # print(f'Downloading data {i + 1}/{total} berhasil di download')\n",
    "await get_mahasiswa()\n",
    "print(f'{total} Data berhasil di download')"
   ]
  },
  {
   "cell_type": "markdown",
   "id": "012bb378",
   "metadata": {},
   "source": [
    "### Langkah 5: Membuat DataFrame dan Menyimpannya ke CSV\n",
    "Kita membuat DataFrame dari daftar data yang telah diproses."
   ]
  },
  {
   "cell_type": "code",
   "execution_count": null,
   "id": "d6e0a9b7",
   "metadata": {},
   "outputs": [],
   "source": [
    "df = pd.DataFrame(data_list)\n",
    "columns = [\n",
    "    'kodeProdi', 'angkatan', 'semesterAwal', 'nim', 'nama', 'jenisKelamin', 'tahunAkademikLulus', 'tanggalLulus', 'lulus', 'masaStudi'\n",
    "] + [\n",
    "    f'khs{idx}_{field}' for idx in range(1, max_khs + 1) for field in\n",
    "    ['tahunAkademik', 'ips', 'sksSmt', 'ipk', 'sksTotal', 'statusMahasiswa']\n",
    "]\n",
    "df = df.reindex(columns=columns)\n"
   ]
  },
  {
   "cell_type": "markdown",
   "id": "f8b4a8fa",
   "metadata": {},
   "source": [
    "### Langkah 6: Memverifikasi Data\n",
    "Langkah terakhir adalah memverifikasi beberapa baris pertama dari DataFrame untuk memastikan bahwa data telah diunduh dan diproses dengan benar."
   ]
  },
  {
   "cell_type": "code",
   "execution_count": null,
   "id": "2a233869",
   "metadata": {},
   "outputs": [],
   "source": [
    "pd.set_option('display.max_columns', None)  # Menampilkan semua kolom\n",
    "pd.set_option('display.expand_frame_repr', False)  # Menghindari pembungkusan frame\n",
    "df.head(10)"
   ]
  },
  {
   "cell_type": "markdown",
   "id": "1b19fbb7",
   "metadata": {},
   "source": [
    "# Validasi data yang sudah di download dengan NIM yang dicari"
   ]
  },
  {
   "cell_type": "code",
   "execution_count": null,
   "id": "c66dac7c",
   "metadata": {},
   "outputs": [],
   "source": [
    "# Validasi data yang sudah di download dengan NIM yang dicari\n",
    "nim_yang_dicari = '105821100817'  # Ganti dengan NIM yang ingin Anda cari\n",
    "data_nim = df.loc[df['nim'] == nim_yang_dicari]\n",
    "\n",
    "# Menampilkan hasil pencarian dan cocokkan dengan KHS yang ada\n",
    "if not data_nim.empty:\n",
    "    for index, row in data_nim.iterrows():\n",
    "        print(f\"Data Mahasiswa dengan NIM: {row['nim']}\")\n",
    "        print(\"=================================\")\n",
    "        for column in data_nim.columns:\n",
    "            print(f\"{column}: {row[column]}\")\n",
    "else:\n",
    "    print(\"Data dengan NIM tersebut tidak ditemukan.\")"
   ]
  }
 ],
 "metadata": {
  "kernelspec": {
   "display_name": "Python 3",
   "language": "python",
   "name": "python3"
  },
  "language_info": {
   "codemirror_mode": {
    "name": "ipython",
    "version": 3
   },
   "file_extension": ".py",
   "mimetype": "text/x-python",
   "name": "python",
   "nbconvert_exporter": "python",
   "pygments_lexer": "ipython3",
   "version": "3.11.9"
  }
 },
 "nbformat": 4,
 "nbformat_minor": 5
}
